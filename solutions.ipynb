{
 "cells": [
  {
   "cell_type": "markdown",
   "metadata": {},
   "source": [
    "# Solutions\n",
    "***\n",
    "\n",
    "## Exercise 1"
   ]
  },
  {
   "cell_type": "code",
   "execution_count": null,
   "metadata": {},
   "outputs": [],
   "source": [
    "# This implements a Pauli-X gate on qubit 3\n",
    "source_circ.x(qr[3])\n",
    "\n",
    "# This implements a single-qubit gate u3 on qubit 2\n",
    "source_circ.u3(theta, pi , 0, qr[2])\n",
    "\n",
    "# This implements a CNOT between qubit 2 as control qubit and qubit 3 as target qubit\n",
    "source_circ.cx(qr[2], qr[3])"
   ]
  },
  {
   "cell_type": "markdown",
   "metadata": {},
   "source": [
    "## Exercise 2"
   ]
  },
  {
   "cell_type": "code",
   "execution_count": null,
   "metadata": {},
   "outputs": [],
   "source": [
    "for i in range(2):\n",
    "    purification_circ.cx(control_qubits[i], target_qubits[i])"
   ]
  },
  {
   "cell_type": "markdown",
   "metadata": {},
   "source": [
    "## Exercise 3"
   ]
  },
  {
   "cell_type": "code",
   "execution_count": null,
   "metadata": {},
   "outputs": [],
   "source": [
    "def state_fidelity_Werner(F_Werner, state):\n",
    "    \"\"\"Returns the fidelity of a two-qubit quantum state to a Werner state.\n",
    "    \n",
    "    Keyword arguments:\n",
    "    F_Werner -- fidelity of Werner state towards Psi^-, range [0, 1]\n",
    "    state -- two-qubit quantum state\n",
    "    \"\"\"\n",
    "    if F_Werner < 0 or F_Werner > 1:\n",
    "        raise Exception('Fidelity must be between 0 and 1.')\n",
    "    \n",
    "    fidelity = state_fidelity(Werner_state(F_Werner), state)\n",
    "    \n",
    "    return fidelity"
   ]
  },
  {
   "cell_type": "markdown",
   "metadata": {},
   "source": [
    "## Exercise 4"
   ]
  },
  {
   "cell_type": "code",
   "execution_count": null,
   "metadata": {},
   "outputs": [],
   "source": [
    "initial_fidelities_Werner = []\n",
    "\n",
    "for fidelity, state in zip(input_fidelities_noise, simulated_initial_states):\n",
    "    fidelity = state_fidelity_Werner(fidelity, state)\n",
    "    initial_fidelities_Werner.append(fidelity)"
   ]
  }
 ],
 "metadata": {
  "kernelspec": {
   "display_name": "Python 3",
   "language": "python",
   "name": "python3"
  },
  "language_info": {
   "codemirror_mode": {
    "name": "ipython",
    "version": 3
   },
   "file_extension": ".py",
   "mimetype": "text/x-python",
   "name": "python",
   "nbconvert_exporter": "python",
   "pygments_lexer": "ipython3",
   "version": "3.7.2"
  }
 },
 "nbformat": 4,
 "nbformat_minor": 2
}
