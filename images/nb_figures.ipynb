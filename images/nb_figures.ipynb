{
 "cells": [
  {
   "cell_type": "code",
   "execution_count": 1,
   "metadata": {},
   "outputs": [],
   "source": [
    "from qiskit import QuantumCircuit, QuantumRegister, ClassicalRegister"
   ]
  },
  {
   "cell_type": "code",
   "execution_count": 2,
   "metadata": {},
   "outputs": [],
   "source": [
    "style_Alice = {'displaytext': {'x': 'U_{i,A}', 'y': 'Y'},\n",
    "               'displaycolor': {'x': '#B88DFF', 'y': '#00B3B0', 'cx': '#68A5FF', 'target': '#ffffff', 'meas': '#000000'}}\n",
    "style_Bob = {'displaytext': {'x': 'U_{i,B}'},\\\n",
    "             'displaycolor': {'x': '#B88DFF', 'cx': '#68A5FF', 'target': '#ffffff', 'meas': '#000000'}}"
   ]
  },
  {
   "cell_type": "code",
   "execution_count": 3,
   "metadata": {},
   "outputs": [],
   "source": [
    "my_text = {'id': 'id',\n",
    "    'u0': 'U_0',\n",
    "    'u1': 'U_1',\n",
    "    'u2': 'U_2',\n",
    "    'u3': 'U_3',\n",
    "    'x': 'X',\n",
    "    'y': 'Y',\n",
    "    'z': 'Z',\n",
    "    'h': 'H',\n",
    "    's': 'S',\n",
    "    'sdg': 'S^\\\\dagger',\n",
    "    't': 'T',\n",
    "    'tdg': 'T^\\\\dagger',\n",
    "    'rx': 'R_x',\n",
    "    'ry': 'R_y',\n",
    "    'rz': 'R_z',\n",
    "    'reset': '\\\\left|0\\\\right\\\\rangle'}"
   ]
  },
  {
   "cell_type": "markdown",
   "metadata": {},
   "source": [
    "***\n",
    "### Qubits"
   ]
  },
  {
   "cell_type": "code",
   "execution_count": 3,
   "metadata": {},
   "outputs": [
    {
     "data": {
      "image/png": "[encoded data removed]",
      "text/plain": [
       "<Figure size 178.192x84.28 with 1 Axes>"
      ]
     },
     "execution_count": 3,
     "metadata": {},
     "output_type": "execute_result"
    }
   ],
   "source": [
    "qr_Alice_control = QuantumRegister(1, name='q_{A,c}')\n",
    "circuit_Alice = QuantumCircuit(qr_Alice_control)\n",
    "circuit_Alice.draw(output='mpl', filename='sources/raw_control_qubit_Alice.svg')"
   ]
  },
  {
   "cell_type": "code",
   "execution_count": 4,
   "metadata": {},
   "outputs": [
    {
     "data": {
      "image/png": "[encoded data removed]",
      "text/plain": [
       "<Figure size 178.192x84.28 with 1 Axes>"
      ]
     },
     "execution_count": 4,
     "metadata": {},
     "output_type": "execute_result"
    }
   ],
   "source": [
    "qr_Alice_target = QuantumRegister(1, name='q_{A,t}')\n",
    "circuit_Alice = QuantumCircuit(qr_Alice_target)\n",
    "circuit_Alice.draw(output='mpl', filename='sources/raw_target_qubit_Alice.svg')"
   ]
  },
  {
   "cell_type": "code",
   "execution_count": 5,
   "metadata": {},
   "outputs": [
    {
     "data": {
      "image/png": "[encoded data removed]",
      "text/plain": [
       "<Figure size 178.192x84.28 with 1 Axes>"
      ]
     },
     "execution_count": 5,
     "metadata": {},
     "output_type": "execute_result"
    }
   ],
   "source": [
    "qr_Bob_control = QuantumRegister(1, name='q_{B,c}')\n",
    "circuit_Bob = QuantumCircuit(qr_Bob_control)\n",
    "circuit_Bob.draw(output='mpl', filename='sources/raw_control_qubit_Bob.svg')"
   ]
  },
  {
   "cell_type": "code",
   "execution_count": 6,
   "metadata": {},
   "outputs": [
    {
     "data": {
      "image/png": "[encoded data removed]",
      "text/plain": [
       "<Figure size 178.192x84.28 with 1 Axes>"
      ]
     },
     "execution_count": 6,
     "metadata": {},
     "output_type": "execute_result"
    }
   ],
   "source": [
    "qr_Bob_target = QuantumRegister(1, name='q_{B,t}')\n",
    "circuit_Bob = QuantumCircuit(qr_Bob_target)\n",
    "circuit_Bob.draw(output='mpl', filename='sources/raw_target_qubit_Bob.svg')"
   ]
  },
  {
   "cell_type": "markdown",
   "metadata": {},
   "source": [
    "***\n",
    "### Figure 2"
   ]
  },
  {
   "cell_type": "code",
   "execution_count": 8,
   "metadata": {},
   "outputs": [
    {
     "data": {
      "text/plain": [
       "<qiskit.circuit.instructionset.InstructionSet at 0x12a1177f0>"
      ]
     },
     "execution_count": 8,
     "metadata": {},
     "output_type": "execute_result"
    }
   ],
   "source": [
    "qr_Alice = QuantumRegister(1, name='q_A')\n",
    "qr_Bob = QuantumRegister(1, name='q_B')\n",
    "circuit_Alice = QuantumCircuit(qr_Alice)\n",
    "circuit_Bob = QuantumCircuit(qr_Bob)\n",
    "circuit_Alice.x(qr_Alice[0])\n",
    "circuit_Bob.x(qr_Bob[0])\n",
    "#style_Alice = {'displaytext': {'x': 'U_{i,A}', 'y': 'Y'}, 'displaycolor': {'x': '#B88DFF', 'y': '#00B3B0'}}\n",
    "#style_Bob = {'displaytext': {'x': 'U_{i,B}'}, 'displaycolor': {'x': '#B88DFF'}}"
   ]
  },
  {
   "cell_type": "code",
   "execution_count": 9,
   "metadata": {},
   "outputs": [
    {
     "data": {
      "image/png": "[encoded data removed]",
      "text/plain": [
       "<Figure size 195.048x84.28 with 1 Axes>"
      ]
     },
     "execution_count": 9,
     "metadata": {},
     "output_type": "execute_result"
    }
   ],
   "source": [
    "circuit_Alice.draw(output='mpl', style=style_Alice, filename='sources/fig02_qc_alice.svg')"
   ]
  },
  {
   "cell_type": "code",
   "execution_count": 10,
   "metadata": {},
   "outputs": [
    {
     "data": {
      "image/png": "[encoded data removed]",
      "text/plain": [
       "<Figure size 195.048x84.28 with 1 Axes>"
      ]
     },
     "execution_count": 10,
     "metadata": {},
     "output_type": "execute_result"
    }
   ],
   "source": [
    "circuit_Bob.draw(output='mpl', style=style_Bob, filename='sources/fig02_qc_bob.svg')"
   ]
  },
  {
   "cell_type": "markdown",
   "metadata": {},
   "source": [
    "***\n",
    "### Figure 3"
   ]
  },
  {
   "cell_type": "code",
   "execution_count": 11,
   "metadata": {},
   "outputs": [
    {
     "data": {
      "text/plain": [
       "<qiskit.circuit.instructionset.InstructionSet at 0x12a2807f0>"
      ]
     },
     "execution_count": 11,
     "metadata": {},
     "output_type": "execute_result"
    }
   ],
   "source": [
    "qr_Alice = QuantumRegister(1, name='q_A')\n",
    "qr_Bob = QuantumRegister(1, name='q_B')\n",
    "circuit_Alice = QuantumCircuit(qr_Alice)\n",
    "circuit_Bob = QuantumCircuit(qr_Bob)\n",
    "circuit_Alice.x(qr_Alice[0])\n",
    "circuit_Bob.x(qr_Bob[0])\n",
    "circuit_Alice.y(qr_Alice[0])\n",
    "#style_Alice = {'displaytext': {'x': 'U_{i,A}', 'y': 'Y'}, 'displaycolor': {'x': '#B88DFF', 'y': '#00B3B0'}}\n",
    "#style_Bob = {'displaytext': {'x': 'U_{i,B}'}, 'displaycolor': {'x': '#B88DFF'}}"
   ]
  },
  {
   "cell_type": "code",
   "execution_count": 12,
   "metadata": {},
   "outputs": [
    {
     "data": {
      "image/png": "[encoded data removed]",
      "text/plain": [
       "<Figure size 255.248x84.28 with 1 Axes>"
      ]
     },
     "execution_count": 12,
     "metadata": {},
     "output_type": "execute_result"
    }
   ],
   "source": [
    "circuit_Alice.draw(output='mpl', style=style_Alice, filename='sources/fig03_qc_alice.svg')"
   ]
  },
  {
   "cell_type": "markdown",
   "metadata": {},
   "source": [
    "***\n",
    "### Figure 4"
   ]
  },
  {
   "cell_type": "code",
   "execution_count": 33,
   "metadata": {},
   "outputs": [
    {
     "data": {
      "text/plain": [
       "<qiskit.circuit.instructionset.InstructionSet at 0x12ab02160>"
      ]
     },
     "execution_count": 33,
     "metadata": {},
     "output_type": "execute_result"
    }
   ],
   "source": [
    "qr_Alice = QuantumRegister(2, name='qA')\n",
    "qr_Bob = QuantumRegister(2, name='qB')\n",
    "circuit_Alice = QuantumCircuit(qr_Alice)\n",
    "circuit_Bob = QuantumCircuit(qr_Bob)\n",
    "circuit_Alice.x(qr_Alice[0])\n",
    "circuit_Bob.x(qr_Bob[0])\n",
    "circuit_Alice.y(qr_Alice[0])\n",
    "circuit_Alice.x(qr_Alice[1])\n",
    "circuit_Bob.x(qr_Bob[1])\n",
    "circuit_Alice.y(qr_Alice[1])\n",
    "circuit_Alice.cx(qr_Alice[0], qr_Alice[1])\n",
    "circuit_Bob.cx(qr_Bob[0], qr_Bob[1])"
   ]
  },
  {
   "cell_type": "code",
   "execution_count": 39,
   "metadata": {},
   "outputs": [
    {
     "name": "stderr",
     "output_type": "stream",
     "text": [
      "/anaconda3/envs/Qiskitenv/lib/python3.7/site-packages/qiskit/visualization/matplotlib.py:143: DeprecationWarning: style option/s (meas) is/are not supported\n",
      "  self._style.set_style(style)\n"
     ]
    },
    {
     "ename": "KeyError",
     "evalue": "'meas'",
     "output_type": "error",
     "traceback": [
      "\u001b[0;31m---------------------------------------------------------------------------\u001b[0m",
      "\u001b[0;31mKeyError\u001b[0m                                  Traceback (most recent call last)",
      "\u001b[0;32m<ipython-input-39-37d0f445ca55>\u001b[0m in \u001b[0;36m<module>\u001b[0;34m\u001b[0m\n\u001b[0;32m----> 1\u001b[0;31m \u001b[0mcircuit_Alice\u001b[0m\u001b[0;34m.\u001b[0m\u001b[0mdraw\u001b[0m\u001b[0;34m(\u001b[0m\u001b[0moutput\u001b[0m\u001b[0;34m=\u001b[0m\u001b[0;34m'mpl'\u001b[0m\u001b[0;34m,\u001b[0m \u001b[0mstyle\u001b[0m\u001b[0;34m=\u001b[0m\u001b[0mstyle_Alice\u001b[0m\u001b[0;34m,\u001b[0m \u001b[0mfilename\u001b[0m\u001b[0;34m=\u001b[0m\u001b[0;34m'sources/fig04_qc_alice.svg'\u001b[0m\u001b[0;34m)\u001b[0m\u001b[0;34m\u001b[0m\u001b[0;34m\u001b[0m\u001b[0m\n\u001b[0m",
      "\u001b[0;32m/anaconda3/envs/Qiskitenv/lib/python3.7/site-packages/qiskit/circuit/quantumcircuit.py\u001b[0m in \u001b[0;36mdraw\u001b[0;34m(self, scale, filename, style, output, interactive, line_length, plot_barriers, reverse_bits, justify, vertical_compression, idle_wires, with_layout, fold, ax)\u001b[0m\n\u001b[1;32m    796\u001b[0m                               \u001b[0mwith_layout\u001b[0m\u001b[0;34m=\u001b[0m\u001b[0mwith_layout\u001b[0m\u001b[0;34m,\u001b[0m\u001b[0;34m\u001b[0m\u001b[0;34m\u001b[0m\u001b[0m\n\u001b[1;32m    797\u001b[0m                               \u001b[0mfold\u001b[0m\u001b[0;34m=\u001b[0m\u001b[0mfold\u001b[0m\u001b[0;34m,\u001b[0m\u001b[0;34m\u001b[0m\u001b[0;34m\u001b[0m\u001b[0m\n\u001b[0;32m--> 798\u001b[0;31m                               ax=ax)\n\u001b[0m\u001b[1;32m    799\u001b[0m \u001b[0;34m\u001b[0m\u001b[0m\n\u001b[1;32m    800\u001b[0m     \u001b[0;32mdef\u001b[0m \u001b[0msize\u001b[0m\u001b[0;34m(\u001b[0m\u001b[0mself\u001b[0m\u001b[0;34m)\u001b[0m\u001b[0;34m:\u001b[0m\u001b[0;34m\u001b[0m\u001b[0;34m\u001b[0m\u001b[0m\n",
      "\u001b[0;32m/anaconda3/envs/Qiskitenv/lib/python3.7/site-packages/qiskit/visualization/circuit_visualization.py\u001b[0m in \u001b[0;36mcircuit_drawer\u001b[0;34m(circuit, scale, filename, style, output, interactive, line_length, plot_barriers, reverse_bits, justify, vertical_compression, idle_wires, with_layout, fold, ax)\u001b[0m\n\u001b[1;32m    298\u001b[0m                                            \u001b[0mwith_layout\u001b[0m\u001b[0;34m=\u001b[0m\u001b[0mwith_layout\u001b[0m\u001b[0;34m,\u001b[0m\u001b[0;34m\u001b[0m\u001b[0;34m\u001b[0m\u001b[0m\n\u001b[1;32m    299\u001b[0m                                            \u001b[0mfold\u001b[0m\u001b[0;34m=\u001b[0m\u001b[0mfold\u001b[0m\u001b[0;34m,\u001b[0m\u001b[0;34m\u001b[0m\u001b[0;34m\u001b[0m\u001b[0m\n\u001b[0;32m--> 300\u001b[0;31m                                            ax=ax)\n\u001b[0m\u001b[1;32m    301\u001b[0m     \u001b[0;32melse\u001b[0m\u001b[0;34m:\u001b[0m\u001b[0;34m\u001b[0m\u001b[0;34m\u001b[0m\u001b[0m\n\u001b[1;32m    302\u001b[0m         raise exceptions.VisualizationError(\n",
      "\u001b[0;32m/anaconda3/envs/Qiskitenv/lib/python3.7/site-packages/qiskit/visualization/circuit_visualization.py\u001b[0m in \u001b[0;36m_matplotlib_circuit_drawer\u001b[0;34m(circuit, scale, filename, style, plot_barriers, reverse_bits, justify, idle_wires, with_layout, fold, ax)\u001b[0m\n\u001b[1;32m    626\u001b[0m                                        \u001b[0mreverse_bits\u001b[0m\u001b[0;34m=\u001b[0m\u001b[0mreverse_bits\u001b[0m\u001b[0;34m,\u001b[0m \u001b[0mlayout\u001b[0m\u001b[0;34m=\u001b[0m\u001b[0mlayout\u001b[0m\u001b[0;34m,\u001b[0m\u001b[0;34m\u001b[0m\u001b[0;34m\u001b[0m\u001b[0m\n\u001b[1;32m    627\u001b[0m                                        fold=fold, ax=ax)\n\u001b[0;32m--> 628\u001b[0;31m     \u001b[0;32mreturn\u001b[0m \u001b[0mqcd\u001b[0m\u001b[0;34m.\u001b[0m\u001b[0mdraw\u001b[0m\u001b[0;34m(\u001b[0m\u001b[0mfilename\u001b[0m\u001b[0;34m)\u001b[0m\u001b[0;34m\u001b[0m\u001b[0;34m\u001b[0m\u001b[0m\n\u001b[0m",
      "\u001b[0;32m/anaconda3/envs/Qiskitenv/lib/python3.7/site-packages/qiskit/visualization/matplotlib.py\u001b[0m in \u001b[0;36mdraw\u001b[0;34m(self, filename, verbose)\u001b[0m\n\u001b[1;32m    497\u001b[0m     \u001b[0;32mdef\u001b[0m \u001b[0mdraw\u001b[0m\u001b[0;34m(\u001b[0m\u001b[0mself\u001b[0m\u001b[0;34m,\u001b[0m \u001b[0mfilename\u001b[0m\u001b[0;34m=\u001b[0m\u001b[0;32mNone\u001b[0m\u001b[0;34m,\u001b[0m \u001b[0mverbose\u001b[0m\u001b[0;34m=\u001b[0m\u001b[0;32mFalse\u001b[0m\u001b[0;34m)\u001b[0m\u001b[0;34m:\u001b[0m\u001b[0;34m\u001b[0m\u001b[0;34m\u001b[0m\u001b[0m\n\u001b[1;32m    498\u001b[0m         \u001b[0mself\u001b[0m\u001b[0;34m.\u001b[0m\u001b[0m_draw_regs\u001b[0m\u001b[0;34m(\u001b[0m\u001b[0;34m)\u001b[0m\u001b[0;34m\u001b[0m\u001b[0;34m\u001b[0m\u001b[0m\n\u001b[0;32m--> 499\u001b[0;31m         \u001b[0mself\u001b[0m\u001b[0;34m.\u001b[0m\u001b[0m_draw_ops\u001b[0m\u001b[0;34m(\u001b[0m\u001b[0mverbose\u001b[0m\u001b[0;34m)\u001b[0m\u001b[0;34m\u001b[0m\u001b[0;34m\u001b[0m\u001b[0m\n\u001b[0m\u001b[1;32m    500\u001b[0m         \u001b[0m_xl\u001b[0m \u001b[0;34m=\u001b[0m \u001b[0;34m-\u001b[0m \u001b[0mself\u001b[0m\u001b[0;34m.\u001b[0m\u001b[0m_style\u001b[0m\u001b[0;34m.\u001b[0m\u001b[0mmargin\u001b[0m\u001b[0;34m[\u001b[0m\u001b[0;36m0\u001b[0m\u001b[0;34m]\u001b[0m\u001b[0;34m\u001b[0m\u001b[0;34m\u001b[0m\u001b[0m\n\u001b[1;32m    501\u001b[0m         \u001b[0m_xr\u001b[0m \u001b[0;34m=\u001b[0m \u001b[0mself\u001b[0m\u001b[0;34m.\u001b[0m\u001b[0m_cond\u001b[0m\u001b[0;34m[\u001b[0m\u001b[0;34m'xmax'\u001b[0m\u001b[0;34m]\u001b[0m \u001b[0;34m+\u001b[0m \u001b[0mself\u001b[0m\u001b[0;34m.\u001b[0m\u001b[0m_style\u001b[0m\u001b[0;34m.\u001b[0m\u001b[0mmargin\u001b[0m\u001b[0;34m[\u001b[0m\u001b[0;36m1\u001b[0m\u001b[0;34m]\u001b[0m\u001b[0;34m\u001b[0m\u001b[0;34m\u001b[0m\u001b[0m\n",
      "\u001b[0;32m/anaconda3/envs/Qiskitenv/lib/python3.7/site-packages/qiskit/visualization/matplotlib.py\u001b[0m in \u001b[0;36m_draw_ops\u001b[0;34m(self, verbose)\u001b[0m\n\u001b[1;32m    784\u001b[0m                 \u001b[0;32mif\u001b[0m \u001b[0mop\u001b[0m\u001b[0;34m.\u001b[0m\u001b[0mname\u001b[0m \u001b[0;34m==\u001b[0m \u001b[0;34m'measure'\u001b[0m\u001b[0;34m:\u001b[0m\u001b[0;34m\u001b[0m\u001b[0;34m\u001b[0m\u001b[0m\n\u001b[1;32m    785\u001b[0m                     \u001b[0mvv\u001b[0m \u001b[0;34m=\u001b[0m \u001b[0mself\u001b[0m\u001b[0;34m.\u001b[0m\u001b[0m_creg_dict\u001b[0m\u001b[0;34m[\u001b[0m\u001b[0mc_idxs\u001b[0m\u001b[0;34m[\u001b[0m\u001b[0;36m0\u001b[0m\u001b[0;34m]\u001b[0m\u001b[0;34m]\u001b[0m\u001b[0;34m[\u001b[0m\u001b[0;34m'index'\u001b[0m\u001b[0;34m]\u001b[0m\u001b[0;34m\u001b[0m\u001b[0;34m\u001b[0m\u001b[0m\n\u001b[0;32m--> 786\u001b[0;31m                     \u001b[0mself\u001b[0m\u001b[0;34m.\u001b[0m\u001b[0m_measure\u001b[0m\u001b[0;34m(\u001b[0m\u001b[0mq_xy\u001b[0m\u001b[0;34m[\u001b[0m\u001b[0;36m0\u001b[0m\u001b[0;34m]\u001b[0m\u001b[0;34m,\u001b[0m \u001b[0mc_xy\u001b[0m\u001b[0;34m[\u001b[0m\u001b[0;36m0\u001b[0m\u001b[0;34m]\u001b[0m\u001b[0;34m,\u001b[0m \u001b[0mvv\u001b[0m\u001b[0;34m)\u001b[0m\u001b[0;34m\u001b[0m\u001b[0;34m\u001b[0m\u001b[0m\n\u001b[0m\u001b[1;32m    787\u001b[0m                 elif op.name in ['barrier', 'snapshot', 'load', 'save',\n\u001b[1;32m    788\u001b[0m                                  'noise']:\n",
      "\u001b[0;32m/anaconda3/envs/Qiskitenv/lib/python3.7/site-packages/qiskit/visualization/matplotlib.py\u001b[0m in \u001b[0;36m_measure\u001b[0;34m(self, qxy, cxy, cid)\u001b[0m\n\u001b[1;32m    363\u001b[0m         \u001b[0mcx\u001b[0m\u001b[0;34m,\u001b[0m \u001b[0mcy\u001b[0m \u001b[0;34m=\u001b[0m \u001b[0mcxy\u001b[0m\u001b[0;34m\u001b[0m\u001b[0;34m\u001b[0m\u001b[0m\n\u001b[1;32m    364\u001b[0m \u001b[0;34m\u001b[0m\u001b[0m\n\u001b[0;32m--> 365\u001b[0;31m         \u001b[0mself\u001b[0m\u001b[0;34m.\u001b[0m\u001b[0m_gate\u001b[0m\u001b[0;34m(\u001b[0m\u001b[0mqxy\u001b[0m\u001b[0;34m,\u001b[0m \u001b[0mfc\u001b[0m\u001b[0;34m=\u001b[0m\u001b[0mself\u001b[0m\u001b[0;34m.\u001b[0m\u001b[0m_style\u001b[0m\u001b[0;34m.\u001b[0m\u001b[0mdispcol\u001b[0m\u001b[0;34m[\u001b[0m\u001b[0;34m'meas'\u001b[0m\u001b[0;34m]\u001b[0m\u001b[0;34m)\u001b[0m\u001b[0;34m\u001b[0m\u001b[0;34m\u001b[0m\u001b[0m\n\u001b[0m\u001b[1;32m    366\u001b[0m \u001b[0;34m\u001b[0m\u001b[0m\n\u001b[1;32m    367\u001b[0m         \u001b[0;31m# add measure symbol\u001b[0m\u001b[0;34m\u001b[0m\u001b[0;34m\u001b[0m\u001b[0;34m\u001b[0m\u001b[0m\n",
      "\u001b[0;31mKeyError\u001b[0m: 'meas'"
     ]
    },
    {
     "data": {
      "image/png": "[encoded data removed]",
      "text/plain": [
       "<Figure size 432x288 with 1 Axes>"
      ]
     },
     "metadata": {},
     "output_type": "display_data"
    }
   ],
   "source": [
    "circuit_Alice.draw(output='mpl', style=style_Alice, filename='sources/fig04_qc_alice.svg')"
   ]
  },
  {
   "cell_type": "code",
   "execution_count": 15,
   "metadata": {},
   "outputs": [
    {
     "data": {
      "image/png": "[encoded data removed]",
      "text/plain": [
       "<Figure size 287.756x144.48 with 1 Axes>"
      ]
     },
     "execution_count": 15,
     "metadata": {},
     "output_type": "execute_result"
    }
   ],
   "source": [
    "circuit_Bob.draw(output='mpl', style=style_Bob, filename='sources/fig04_qc_bob.svg')"
   ]
  },
  {
   "cell_type": "markdown",
   "metadata": {},
   "source": [
    "***\n",
    "### Figure 5"
   ]
  },
  {
   "cell_type": "code",
   "execution_count": 48,
   "metadata": {},
   "outputs": [
    {
     "data": {
      "text/plain": [
       "<qiskit.circuit.instructionset.InstructionSet at 0x12af9c128>"
      ]
     },
     "execution_count": 48,
     "metadata": {},
     "output_type": "execute_result"
    }
   ],
   "source": [
    "qr_Alice = QuantumRegister(2, name='qA')\n",
    "cr_Alice = ClassicalRegister(1, name='c_A')\n",
    "qr_Bob = QuantumRegister(2, name='qB')\n",
    "cr_Bob = ClassicalRegister(1, name='c_B')\n",
    "circuit_Alice = QuantumCircuit(qr_Alice, cr_Alice)\n",
    "circuit_Bob = QuantumCircuit(qr_Bob, cr_Bob)\n",
    "circuit_Alice.x(qr_Alice[0])\n",
    "circuit_Bob.x(qr_Bob[0])\n",
    "circuit_Alice.y(qr_Alice[0])\n",
    "circuit_Alice.x(qr_Alice[1])\n",
    "circuit_Bob.x(qr_Bob[1])\n",
    "circuit_Alice.y(qr_Alice[1])\n",
    "circuit_Alice.cx(qr_Alice[0], qr_Alice[1])\n",
    "circuit_Bob.cx(qr_Bob[0], qr_Bob[1])\n",
    "circuit_Alice.measure(qr_Alice[1], cr_Alice[0])\n",
    "circuit_Bob.measure(qr_Bob[1], cr_Bob[0])"
   ]
  },
  {
   "cell_type": "code",
   "execution_count": 49,
   "metadata": {},
   "outputs": [
    {
     "data": {
      "image/png": "[encoded data removed]",
      "text/plain": [
       "<Figure size 408.156x204.68 with 1 Axes>"
      ]
     },
     "execution_count": 49,
     "metadata": {},
     "output_type": "execute_result"
    }
   ],
   "source": [
    "circuit_Alice.draw(output='mpl', style=style_Alice, filename='sources/fig05_qc_alice.svg')"
   ]
  },
  {
   "cell_type": "code",
   "execution_count": 52,
   "metadata": {},
   "outputs": [
    {
     "data": {
      "image/png": "[encoded data removed]",
      "text/plain": [
       "<Figure size 347.956x204.68 with 1 Axes>"
      ]
     },
     "execution_count": 52,
     "metadata": {},
     "output_type": "execute_result"
    }
   ],
   "source": [
    "circuit_Bob.draw(output='mpl', style=style_Bob, filename='sources/fig05_qc_bob.svg')"
   ]
  },
  {
   "cell_type": "code",
   "execution_count": null,
   "metadata": {},
   "outputs": [],
   "source": []
  }
 ],
 "metadata": {
  "kernelspec": {
   "display_name": "Python 3",
   "language": "python",
   "name": "python3"
  },
  "language_info": {
   "codemirror_mode": {
    "name": "ipython",
    "version": 3
   },
   "file_extension": ".py",
   "mimetype": "text/x-python",
   "name": "python",
   "nbconvert_exporter": "python",
   "pygments_lexer": "ipython3",
   "version": "3.7.2"
  }
 },
 "nbformat": 4,
 "nbformat_minor": 2
}
