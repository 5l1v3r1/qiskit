{
 "cells": [
  {
   "cell_type": "code",
   "execution_count": null,
   "metadata": {},
   "outputs": [],
   "source": [
    "from qiskit import QuantumCircuit, QuantumRegister, ClassicalRegister"
   ]
  },
  {
   "cell_type": "code",
   "execution_count": null,
   "metadata": {},
   "outputs": [],
   "source": [
    "style_Alice = {'displaytext': {'x': 'U_{i,A}', 'y': 'Y', 'cx': 'aaa', 'target': 'xx'},\\\n",
    "               'displaycolor': {'x': '#B88DFF', 'y': '#00B3B0', 'cx': '#68A5FF', 'target': '#ffffff'}}\n",
    "style_Bob = {'displaytext': {'x': 'U_{i,B}'},\\\n",
    "             'displaycolor': {'x': '#B88DFF', 'cx': '#68A5FF', 'target': '#ffffff'}}"
   ]
  },
  {
   "cell_type": "code",
   "execution_count": null,
   "metadata": {},
   "outputs": [],
   "source": [
    "my_text = {'id': 'id',\n",
    "    'u0': 'U_0',\n",
    "    'u1': 'U_1',\n",
    "    'u2': 'U_2',\n",
    "    'u3': 'U_3',\n",
    "    'x': 'X',\n",
    "    'y': 'Y',\n",
    "    'z': 'Z',\n",
    "    'h': 'H',\n",
    "    's': 'S',\n",
    "    'sdg': 'S^\\\\dagger',\n",
    "    't': 'T',\n",
    "    'tdg': 'T^\\\\dagger',\n",
    "    'rx': 'R_x',\n",
    "    'ry': 'R_y',\n",
    "    'rz': 'R_z',\n",
    "    'reset': '\\\\left|0\\\\right\\\\rangle'}"
   ]
  },
  {
   "cell_type": "markdown",
   "metadata": {},
   "source": [
    "***\n",
    "### Qubits"
   ]
  },
  {
   "cell_type": "code",
   "execution_count": null,
   "metadata": {},
   "outputs": [],
   "source": [
    "qr_Alice_control = QuantumRegister(1, name='q_{A, control}')\n",
    "circuit_Alice = QuantumCircuit(qr_Alice_control)\n",
    "circuit_Alice.draw(output='mpl', filename='sources/raw_control_qubit_Alice.svg')"
   ]
  },
  {
   "cell_type": "code",
   "execution_count": 89,
   "metadata": {},
   "outputs": [
    {
     "data": {
      "image/png": "[encoded data removed]",
      "text/plain": [
       "<Figure size 243.208x84.28 with 1 Axes>"
      ]
     },
     "execution_count": 89,
     "metadata": {},
     "output_type": "execute_result"
    }
   ],
   "source": [
    "qr_Alice_target = QuantumRegister(1, name='q_{A, target}')\n",
    "circuit_Alice = QuantumCircuit(qr_Alice_target)\n",
    "circuit_Alice.draw(output='mpl', filename='sources/raw_target_qubit_Alice.svg')"
   ]
  },
  {
   "cell_type": "code",
   "execution_count": 90,
   "metadata": {},
   "outputs": [
    {
     "data": {
      "image/png": "[encoded data removed]",
      "text/plain": [
       "<Figure size 254.044x84.28 with 1 Axes>"
      ]
     },
     "execution_count": 90,
     "metadata": {},
     "output_type": "execute_result"
    }
   ],
   "source": [
    "qr_Bob_control = QuantumRegister(1, name='q_{B, control}')\n",
    "circuit_Bob = QuantumCircuit(qr_Bob_control)\n",
    "circuit_Bob.draw(output='mpl', filename='sources/raw_control_qubit_Bob.svg')"
   ]
  },
  {
   "cell_type": "code",
   "execution_count": 91,
   "metadata": {},
   "outputs": [
    {
     "data": {
      "image/png": "[encoded data removed]",
      "text/plain": [
       "<Figure size 243.208x84.28 with 1 Axes>"
      ]
     },
     "execution_count": 91,
     "metadata": {},
     "output_type": "execute_result"
    }
   ],
   "source": [
    "qr_Bob_target = QuantumRegister(1, name='q_{B, target}')\n",
    "circuit_Bob = QuantumCircuit(qr_Bob_target)\n",
    "circuit_Bob.draw(output='mpl', filename='sources/raw_target_qubit_Bob.svg')"
   ]
  },
  {
   "cell_type": "markdown",
   "metadata": {},
   "source": [
    "***\n",
    "### Figure 2"
   ]
  },
  {
   "cell_type": "code",
   "execution_count": 3,
   "metadata": {},
   "outputs": [],
   "source": [
    "qr_Alice = QuantumRegister(1, name='q_A')\n",
    "qr_Bob = QuantumRegister(1, name='q_B')\n",
    "circuit_Alice = QuantumCircuit(qr_Alice)\n",
    "circuit_Bob = QuantumCircuit(qr_Bob)\n",
    "circuit_Alice.x(qr_Alice[0])\n",
    "circuit_Bob.x(qr_Bob[0])\n",
    "#style_Alice = {'displaytext': {'x': 'U_{i,A}', 'y': 'Y'}, 'displaycolor': {'x': '#B88DFF', 'y': '#00B3B0'}}\n",
    "#style_Bob = {'displaytext': {'x': 'U_{i,B}'}, 'displaycolor': {'x': '#B88DFF'}}"
   ]
  },
  {
   "cell_type": "code",
   "execution_count": 4,
   "metadata": {},
   "outputs": [
    {
     "data": {
      "image/png": "[encoded data removed]",
      "text/plain": [
       "<Figure size 195.048x84.28 with 1 Axes>"
      ]
     },
     "execution_count": 4,
     "metadata": {},
     "output_type": "execute_result"
    }
   ],
   "source": [
    "circuit_Alice.draw(output='mpl', style=style_Alice, filename='sources/fig02_qc_alice.svg')"
   ]
  },
  {
   "cell_type": "code",
   "execution_count": 5,
   "metadata": {},
   "outputs": [
    {
     "data": {
      "image/png": "[encoded data removed]",
      "text/plain": [
       "<Figure size 195.048x84.28 with 1 Axes>"
      ]
     },
     "execution_count": 5,
     "metadata": {},
     "output_type": "execute_result"
    }
   ],
   "source": [
    "circuit_Bob.draw(output='mpl', style=style_Bob, filename='sources/fig02_qc_bob.svg')"
   ]
  },
  {
   "cell_type": "markdown",
   "metadata": {},
   "source": [
    "***\n",
    "### Figure 3"
   ]
  },
  {
   "cell_type": "code",
   "execution_count": 6,
   "metadata": {},
   "outputs": [],
   "source": [
    "qr_Alice = QuantumRegister(1, name='q_A')\n",
    "qr_Bob = QuantumRegister(1, name='q_B')\n",
    "circuit_Alice = QuantumCircuit(qr_Alice)\n",
    "circuit_Bob = QuantumCircuit(qr_Bob)\n",
    "circuit_Alice.x(qr_Alice[0])\n",
    "circuit_Bob.x(qr_Bob[0])\n",
    "circuit_Alice.y(qr_Alice[0])\n",
    "#style_Alice = {'displaytext': {'x': 'U_{i,A}', 'y': 'Y'}, 'displaycolor': {'x': '#B88DFF', 'y': '#00B3B0'}}\n",
    "#style_Bob = {'displaytext': {'x': 'U_{i,B}'}, 'displaycolor': {'x': '#B88DFF'}}"
   ]
  },
  {
   "cell_type": "code",
   "execution_count": 7,
   "metadata": {},
   "outputs": [
    {
     "data": {
      "image/png": "[encoded data removed]",
      "text/plain": [
       "<Figure size 255.248x84.28 with 1 Axes>"
      ]
     },
     "execution_count": 7,
     "metadata": {},
     "output_type": "execute_result"
    }
   ],
   "source": [
    "circuit_Alice.draw(output='mpl', style=style_Alice, filename='sources/fig03_qc_alice.svg')"
   ]
  },
  {
   "cell_type": "markdown",
   "metadata": {},
   "source": [
    "***\n",
    "### Figure 4"
   ]
  },
  {
   "cell_type": "code",
   "execution_count": 125,
   "metadata": {},
   "outputs": [],
   "source": [
    "qr_Alice = QuantumRegister(2, name='qA')\n",
    "qr_Bob = QuantumRegister(2, name='qB')\n",
    "circuit_Alice = QuantumCircuit(qr_Alice)\n",
    "circuit_Bob = QuantumCircuit(qr_Bob)\n",
    "circuit_Alice.x(qr_Alice[0])\n",
    "circuit_Bob.x(qr_Bob[0])\n",
    "circuit_Alice.y(qr_Alice[0])\n",
    "circuit_Alice.x(qr_Alice[1])\n",
    "circuit_Bob.x(qr_Bob[1])\n",
    "circuit_Alice.y(qr_Alice[1])\n",
    "circuit_Alice.cx(qr_Alice[0], qr_Alice[1])\n",
    "circuit_Bob.cx(qr_Bob[0], qr_Bob[1])\n",
    "#style_Alice = {'displaytext': {'x': 'U_{i,A}', 'y': 'Y', 'cx': 'aaa', 'target': 'xx'},\\\n",
    " #              'displaycolor': {'x': '#B88DFF', 'y': '#00B3B0', 'cx': '#68A5FF', 'target': '#ffffff'}}\n",
    "#style_Bob = {'displaytext': {'x': 'U_{i,B}'},\\\n",
    " #            'displaycolor': {'x': '#B88DFF', 'cx': '#68A5FF', 'target': '#ffffff'}}"
   ]
  },
  {
   "cell_type": "code",
   "execution_count": 122,
   "metadata": {},
   "outputs": [
    {
     "data": {
      "image/png": "[encoded data removed]",
      "text/plain": [
       "<Figure size 347.956x144.48 with 1 Axes>"
      ]
     },
     "execution_count": 122,
     "metadata": {},
     "output_type": "execute_result"
    }
   ],
   "source": [
    "circuit_Alice.draw(output='mpl', style=style_Alice, filename='sources/fig04_qc_alice.svg')"
   ]
  },
  {
   "cell_type": "code",
   "execution_count": 126,
   "metadata": {},
   "outputs": [
    {
     "data": {
      "image/png": "[encoded data removed]",
      "text/plain": [
       "<Figure size 287.756x144.48 with 1 Axes>"
      ]
     },
     "execution_count": 126,
     "metadata": {},
     "output_type": "execute_result"
    }
   ],
   "source": [
    "circuit_Bob.draw(output='mpl', style=style_Bob, filename='sources/fig04_qc_bob.svg')"
   ]
  },
  {
   "cell_type": "code",
   "execution_count": null,
   "metadata": {},
   "outputs": [],
   "source": []
  }
 ],
 "metadata": {
  "kernelspec": {
   "display_name": "Python 3",
   "language": "python",
   "name": "python3"
  },
  "language_info": {
   "codemirror_mode": {
    "name": "ipython",
    "version": 3
   },
   "file_extension": ".py",
   "mimetype": "text/x-python",
   "name": "python",
   "nbconvert_exporter": "python",
   "pygments_lexer": "ipython3",
   "version": "3.7.2"
  }
 },
 "nbformat": 4,
 "nbformat_minor": 2
}
