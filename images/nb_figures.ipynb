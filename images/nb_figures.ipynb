{
 "cells": [
  {
   "cell_type": "code",
   "execution_count": 1,
   "metadata": {},
   "outputs": [],
   "source": [
    "from qiskit import QuantumCircuit, QuantumRegister, ClassicalRegister"
   ]
  },
  {
   "cell_type": "code",
   "execution_count": null,
   "metadata": {},
   "outputs": [],
   "source": [
    "my_text = {'id': 'id',\n",
    "    'u0': 'U_0',\n",
    "    'u1': 'U_1',\n",
    "    'u2': 'U_2',\n",
    "    'u3': 'U_3',\n",
    "    'x': 'X',\n",
    "    'y': 'Y',\n",
    "    'z': 'Z',\n",
    "    'h': 'H',\n",
    "    's': 'S',\n",
    "    'sdg': 'S^\\\\dagger',\n",
    "    't': 'T',\n",
    "    'tdg': 'T^\\\\dagger',\n",
    "    'rx': 'R_x',\n",
    "    'ry': 'R_y',\n",
    "    'rz': 'R_z',\n",
    "    'reset': '\\\\left|0\\\\right\\\\rangle'}"
   ]
  },
  {
   "cell_type": "markdown",
   "metadata": {},
   "source": [
    "#### Figure 2"
   ]
  },
  {
   "cell_type": "code",
   "execution_count": 16,
   "metadata": {},
   "outputs": [],
   "source": [
    "qr_Alice = QuantumRegister(1, name='q_A')\n",
    "qr_Bob = QuantumRegister(1, name='q_B')\n",
    "circuit_Alice = QuantumCircuit(qr_Alice)\n",
    "circuit_Bob = QuantumCircuit(qr_Bob)\n",
    "circuit_Alice.x(qr_Alice[0])\n",
    "circuit_Bob.x(qr_Bob[0])\n",
    "style_Alice = {'displaytext': {'x': 'U_{i,A}', 'y': 'Y'}, 'displaycolor': {'x': '#B88DFF', 'y': '#00B3B0'}}\n",
    "style_Bob = {'displaytext': {'x': 'U_{i,B}'}, 'displaycolor': {'x': '#B88DFF'}}"
   ]
  },
  {
   "cell_type": "code",
   "execution_count": 17,
   "metadata": {},
   "outputs": [
    {
     "data": {
      "image/png": "[encoded data removed]",
      "text/plain": [
       "<Figure size 195.048x84.28 with 1 Axes>"
      ]
     },
     "execution_count": 17,
     "metadata": {},
     "output_type": "execute_result"
    }
   ],
   "source": [
    "circuit_Alice.draw(output='mpl', style=style_Alice)"
   ]
  },
  {
   "cell_type": "code",
   "execution_count": 7,
   "metadata": {},
   "outputs": [
    {
     "data": {
      "image/png": "[encoded data removed]",
      "text/plain": [
       "<Figure size 195.048x84.28 with 1 Axes>"
      ]
     },
     "execution_count": 7,
     "metadata": {},
     "output_type": "execute_result"
    }
   ],
   "source": [
    "circuit_Bob.draw(output='mpl', style=style_Bob)"
   ]
  },
  {
   "cell_type": "markdown",
   "metadata": {},
   "source": [
    "#### Figure 3"
   ]
  },
  {
   "cell_type": "code",
   "execution_count": 18,
   "metadata": {},
   "outputs": [],
   "source": [
    "qr_Alice = QuantumRegister(1, name='q_A')\n",
    "qr_Bob = QuantumRegister(1, name='q_B')\n",
    "circuit_Alice = QuantumCircuit(qr_Alice)\n",
    "circuit_Bob = QuantumCircuit(qr_Bob)\n",
    "circuit_Alice.x(qr_Alice[0])\n",
    "circuit_Bob.x(qr_Bob[0])\n",
    "circuit_Alice.y(qr_Alice[0])\n",
    "style_Alice = {'displaytext': {'x': 'U_{i,A}', 'y': 'Y'}, 'displaycolor': {'x': '#B88DFF', 'y': '#00B3B0'}}\n",
    "style_Bob = {'displaytext': {'x': 'U_{i,B}'}, 'displaycolor': {'x': '#B88DFF'}}"
   ]
  },
  {
   "cell_type": "code",
   "execution_count": 19,
   "metadata": {},
   "outputs": [
    {
     "data": {
      "image/png": "[encoded data removed]",
      "text/plain": [
       "<Figure size 255.248x84.28 with 1 Axes>"
      ]
     },
     "execution_count": 19,
     "metadata": {},
     "output_type": "execute_result"
    }
   ],
   "source": [
    "circuit_Alice.draw(output='mpl', style=style_Alice, filename='test.svg')"
   ]
  },
  {
   "cell_type": "code",
   "execution_count": null,
   "metadata": {},
   "outputs": [],
   "source": []
  }
 ],
 "metadata": {
  "kernelspec": {
   "display_name": "Python 3",
   "language": "python",
   "name": "python3"
  },
  "language_info": {
   "codemirror_mode": {
    "name": "ipython",
    "version": 3
   },
   "file_extension": ".py",
   "mimetype": "text/x-python",
   "name": "python",
   "nbconvert_exporter": "python",
   "pygments_lexer": "ipython3",
   "version": "3.7.2"
  }
 },
 "nbformat": 4,
 "nbformat_minor": 2
}
